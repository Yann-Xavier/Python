{
  "nbformat": 4,
  "nbformat_minor": 0,
  "metadata": {
    "colab": {
      "provenance": [],
      "authorship_tag": "ABX9TyNs+gDDIP77vh2dVSAICAuH",
      "include_colab_link": true
    },
    "kernelspec": {
      "name": "python3",
      "display_name": "Python 3"
    },
    "language_info": {
      "name": "python"
    }
  },
  "cells": [
    {
      "cell_type": "markdown",
      "metadata": {
        "id": "view-in-github",
        "colab_type": "text"
      },
      "source": [
        "<a href=\"https://colab.research.google.com/github/Yann-Xavier/Python/blob/main/Tulpas.ipynb\" target=\"_parent\"><img src=\"https://colab.research.google.com/assets/colab-badge.svg\" alt=\"Open In Colab\"/></a>"
      ]
    },
    {
      "cell_type": "code",
      "source": [
        "# Função para ler uma tupla do teclado\n",
        "def ler_tupla():\n",
        "    tupla = ()\n",
        "    while True:\n",
        "        try:\n",
        "            tamanho = int(input(\"Digite o tamanho da tupla: \"))\n",
        "            if tamanho <= 0:\n",
        "                raise ValueError(\"O tamanho deve ser maior que zero!\")\n",
        "            break\n",
        "        except ValueError:\n",
        "            print(\"Você deve digitar um número inteiro!\")\n",
        "    for i in range(tamanho):\n",
        "        while True:\n",
        "            try:\n",
        "                item = int(input(f\"Digite o {i+1}º item da tupla: \"))\n",
        "                break\n",
        "            except ValueError:\n",
        "                print(\"Você deve digitar um número inteiro!\")\n",
        "        tupla += (item,)\n",
        "    return tupla\n",
        "\n",
        "# Função para adicionar um elemento a uma tupla\n",
        "def adicionar_elemento(tupla, elemento):\n",
        "    lista = list(tupla)\n",
        "    lista.append(elemento)\n",
        "    tupla = tuple(lista)\n",
        "    return tupla\n",
        "\n",
        "# Função principal do programa\n",
        "def main():\n",
        "    tupla = ler_tupla()\n",
        "    elemento = int(input(\"Digite o elemento a ser adicionado: \"))\n",
        "    tupla_modificada = adicionar_elemento(tupla, elemento)\n",
        "    print(\"\\nTupla modificada:\")\n",
        "    print(tupla_modificada)\n",
        "    print(\"\\nLista:\")\n",
        "    print(list(tupla_modificada))\n",
        "\n",
        "# Execute o programa\n",
        "if __name__ == \"__main__\":\n",
        "    main()7"
      ],
      "metadata": {
        "colab": {
          "base_uri": "https://localhost:8080/"
        },
        "id": "J4GRpA_QB8je",
        "outputId": "b588756c-ea53-4728-d345-830e328fc0f1"
      },
      "execution_count": 14,
      "outputs": [
        {
          "output_type": "stream",
          "name": "stdout",
          "text": [
            "Digite o tamanho da tupla: 10\n",
            "Digite o 1º item da tupla: 1\n",
            "Digite o 2º item da tupla: 5\n",
            "Digite o 3º item da tupla: 4\n",
            "Digite o 4º item da tupla: 9\n",
            "Digite o 5º item da tupla: 8\n",
            "Digite o 6º item da tupla: \n",
            "Você deve digitar um número inteiro!\n",
            "Digite o 6º item da tupla: 10\n",
            "Digite o 7º item da tupla: 7\n",
            "Digite o 8º item da tupla: 2\n",
            "Digite o 9º item da tupla: 3\n",
            "Digite o 10º item da tupla: 11\n",
            "Digite o elemento a ser adicionado: 25\n",
            "\n",
            "Tupla modificada:\n",
            "(1, 5, 4, 9, 8, 10, 7, 2, 3, 11, 25)\n",
            "\n",
            "Lista:\n",
            "[1, 5, 4, 9, 8, 10, 7, 2, 3, 11, 25]\n"
          ]
        }
      ]
    }
  ]
}