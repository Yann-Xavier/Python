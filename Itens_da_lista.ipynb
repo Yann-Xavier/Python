{
  "nbformat": 4,
  "nbformat_minor": 0,
  "metadata": {
    "colab": {
      "provenance": [],
      "authorship_tag": "ABX9TyPyQeQEB9nYlegEKL3sBJPc",
      "include_colab_link": true
    },
    "kernelspec": {
      "name": "python3",
      "display_name": "Python 3"
    },
    "language_info": {
      "name": "python"
    }
  },
  "cells": [
    {
      "cell_type": "markdown",
      "metadata": {
        "id": "view-in-github",
        "colab_type": "text"
      },
      "source": [
        "<a href=\"https://colab.research.google.com/github/Yann-Xavier/Python/blob/main/Itens_da_lista.ipynb\" target=\"_parent\"><img src=\"https://colab.research.google.com/assets/colab-badge.svg\" alt=\"Open In Colab\"/></a>"
      ]
    },
    {
      "cell_type": "code",
      "source": [
        "palavra = \"exemplo\"\n",
        "lista = [\"maçã\", \"banana\", \"laranja\", \"abacaxi\", \"exemplo\"]\n",
        "\n",
        "if palavra in lista:\n",
        "    print(f\"A palavra '{palavra}' está presente na lista.\")\n",
        "else:\n",
        "    print(f\"A palavra '{palavra}' não está presente na lista.\")"
      ],
      "metadata": {
        "colab": {
          "base_uri": "https://localhost:8080/"
        },
        "id": "3PhVC0ZT-OOz",
        "outputId": "8dfce8af-394a-4407-a6e7-333c2c6a0d21"
      },
      "execution_count": 5,
      "outputs": [
        {
          "output_type": "stream",
          "name": "stdout",
          "text": [
            "A palavra 'exemplo' está presente na lista.\n"
          ]
        }
      ]
    }
  ]
}