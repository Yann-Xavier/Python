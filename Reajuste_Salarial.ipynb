{
  "nbformat": 4,
  "nbformat_minor": 0,
  "metadata": {
    "colab": {
      "provenance": [],
      "authorship_tag": "ABX9TyOSSrYMR7D7Pn9rNC4aAyyy",
      "include_colab_link": true
    },
    "kernelspec": {
      "name": "python3",
      "display_name": "Python 3"
    },
    "language_info": {
      "name": "python"
    }
  },
  "cells": [
    {
      "cell_type": "markdown",
      "metadata": {
        "id": "view-in-github",
        "colab_type": "text"
      },
      "source": [
        "<a href=\"https://colab.research.google.com/github/Yann-Xavier/Python/blob/main/Reajuste_Salarial.ipynb\" target=\"_parent\"><img src=\"https://colab.research.google.com/assets/colab-badge.svg\" alt=\"Open In Colab\"/></a>"
      ]
    },
    {
      "cell_type": "code",
      "execution_count": 3,
      "metadata": {
        "colab": {
          "base_uri": "https://localhost:8080/"
        },
        "id": "mprthjNNe9z0",
        "outputId": "d25173f8-bad3-48e5-c2a2-3fd308ca0d12"
      },
      "outputs": [
        {
          "output_type": "stream",
          "name": "stdout",
          "text": [
            "Digite o salário atual do funcionário: 500\n",
            "O novo salário do funcionário é: R$575.00\n"
          ]
        }
      ],
      "source": [
        "SALARY_INCREASE_RANGES = [\n",
        "    (None, 500, 0.15),  # Salário inicial até R$ 500, reajuste de 15%\n",
        "    (500, 1000, 0.10),  # Salário entre R$ 500 e R$ 1000, reajuste de 10%\n",
        "    (1000, float('inf'), 0.05)  # Salário acima de R$ 1000, reajuste de 5%\n",
        "]\n",
        "\n",
        "def calculate_new_salary(current_salary):\n",
        "    \"\"\"\n",
        "    Calcula o novo salário de um funcionário com base no salário atual.\n",
        "\n",
        "    Parâmetros:\n",
        "    current_salary (float): Salário atual do funcionário.\n",
        "\n",
        "    Retorna:\n",
        "    float: Novo salário do funcionário.\n",
        "    \"\"\"\n",
        "    # Encontra o intervalo de salário que o funcionário atual pertence\n",
        "    for lower_limit, upper_limit, reajust_percentage in SALARY_INCREASE_RANGES:\n",
        "        if lower_limit is None or current_salary <= upper_limit:\n",
        "            # Calcula o novo salário com base na taxa de reajuste\n",
        "            new_salary = current_salary * (1 + reajust_percentage)\n",
        "            return new_salary\n",
        "    else:\n",
        "        # Caso nenhum intervalo de salário seja encontrado, retorna None\n",
        "        return None\n",
        "\n",
        "# Exemplo de uso\n",
        "try:\n",
        "    current_salary = float(input(\"Digite o salário atual do funcionário: \"))\n",
        "    new_salary = calculate_new_salary(current_salary)\n",
        "\n",
        "    if new_salary is not None:\n",
        "        print(f\"O novo salário do funcionário é: R${new_salary:.2f}\")\n",
        "    else:\n",
        "        print(\"Não foi possível calcular o novo salário.\")\n",
        "except ValueError:\n",
        "    print(\"Por favor, insira um valor numérico válido para o salário.\")\n"
      ]
    }
  ]
}