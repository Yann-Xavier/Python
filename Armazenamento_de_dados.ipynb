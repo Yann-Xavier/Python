{
  "nbformat": 4,
  "nbformat_minor": 0,
  "metadata": {
    "colab": {
      "provenance": [],
      "authorship_tag": "ABX9TyN5L4CBGiSokaQ1mnx/kYW+",
      "include_colab_link": true
    },
    "kernelspec": {
      "name": "python3",
      "display_name": "Python 3"
    },
    "language_info": {
      "name": "python"
    }
  },
  "cells": [
    {
      "cell_type": "markdown",
      "metadata": {
        "id": "view-in-github",
        "colab_type": "text"
      },
      "source": [
        "<a href=\"https://colab.research.google.com/github/Yann-Xavier/Python/blob/main/Armazenamento_de_dados.ipynb\" target=\"_parent\"><img src=\"https://colab.research.google.com/assets/colab-badge.svg\" alt=\"Open In Colab\"/></a>"
      ]
    },
    {
      "cell_type": "code",
      "execution_count": null,
      "metadata": {
        "id": "Wq3NpUtT6820"
      },
      "outputs": [],
      "source": [
        "lista_de_pessoas = []\n",
        "\n",
        "for i in range(2):\n",
        "    nome = input(\"Digite o nome da pessoa {}: \".format(i+1))\n",
        "    idade = int(input(\"Digite a idade da pessoa {}: \".format(i+1)))\n",
        "    profissao = input(\"Digite a profissão da pessoa {}: \".format(i+1))\n",
        "\n",
        "    pessoa = {\n",
        "        \"nome\": nome,\n",
        "        \"idade\": idade,\n",
        "        \"profissao\": profissao\n",
        "    }\n",
        "\n",
        "    lista_de_pessoas.append(pessoa)\n",
        "\n",
        "print(\"\\nLista de pessoas:\")\n",
        "for pessoa in lista_de_pessoas:\n",
        "    print(pessoa)\n"
      ]
    }
  ]
}