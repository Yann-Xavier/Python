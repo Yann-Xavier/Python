{
  "cells": [
    {
      "cell_type": "markdown",
      "metadata": {
        "id": "view-in-github",
        "colab_type": "text"
      },
      "source": [
        "<a href=\"https://colab.research.google.com/github/Yann-Xavier/Python/blob/main/M%C3%A9dias_py.ipynb\" target=\"_parent\"><img src=\"https://colab.research.google.com/assets/colab-badge.svg\" alt=\"Open In Colab\"/></a>"
      ]
    },
    {
      "cell_type": "code",
      "source": [
        "import sqlite3\n",
        "\n",
        "# Conectando ao banco de dados SQLite\n",
        "conn = sqlite3.connect('notas.db')\n",
        "c = conn.cursor()\n",
        "\n",
        "# Criando a tabela se ela ainda não existir\n",
        "c.execute('''CREATE TABLE IF NOT EXISTS notas (\n",
        "             materia TEXT,\n",
        "             nota1 REAL,\n",
        "             nota2 REAL\n",
        "             )''')\n",
        "\n",
        "# Função para calcular a média e determinar se o aluno foi aprovado ou reprovado\n",
        "def calcular_media_e_status(materia, nota1, nota2):\n",
        "    media = (nota1 + nota2) / 2\n",
        "    if media >= 7:\n",
        "        status = \"Aprovado\"\n",
        "    else:\n",
        "        status = \"Reprovado\"\n",
        "        nota_final = 10 - media\n",
        "\n",
        "    print(\"Média:\", media)\n",
        "    print(\"Status:\", status)\n",
        "    if status == \"Reprovado\":\n",
        "        print(\"Nota Final:\", nota_final)\n",
        "\n",
        "# Função para inserir dados no banco de dados\n",
        "def inserir_notas(materia, nota1, nota2):\n",
        "    c.execute(\"INSERT INTO notas (materia, nota1, nota2) VALUES (?, ?, ?)\", (materia, nota1, nota2))\n",
        "    conn.commit()\n",
        "    print(\"Notas inseridas com sucesso!\")\n",
        "\n",
        "# Função para exibir todas as notas armazenadas no banco de dados\n",
        "def exibir_notas():\n",
        "    c.execute(\"SELECT * FROM notas\")\n",
        "    rows = c.fetchall()\n",
        "    for row in rows:\n",
        "        print(\"Matéria:\", row[0])\n",
        "        print(\"Nota 1:\", row[1])\n",
        "        print(\"Nota 2:\", row[2])\n",
        "        calcular_media_e_status(row[0], row[1], row[2])\n",
        "        print()\n",
        "\n",
        "# Exemplo de utilização do programa\n",
        "while True:\n",
        "    print(\"\\n1. Inserir notas\")\n",
        "    print(\"2. Exibir notas\")\n",
        "    print(\"3. Sair\")\n",
        "    opcao = input(\"Escolha uma opção: \")\n",
        "\n",
        "    if opcao == \"1\":\n",
        "        materia = input(\"Digite a matéria: \")\n",
        "        nota1 = float(input(\"Digite a primeira nota: \"))\n",
        "        nota2 = float(input(\"Digite a segunda nota: \"))\n",
        "        inserir_notas(materia, nota1, nota2)\n",
        "    elif opcao == \"2\":\n",
        "        exibir_notas()\n",
        "    elif opcao == \"3\":\n",
        "        break\n",
        "    else:\n",
        "        print(\"Opção inválida. Tente novamente.\")\n",
        "\n",
        "# Fechando a conexão com o banco de dados\n",
        "conn.close()\n"
      ],
      "metadata": {
        "colab": {
          "base_uri": "https://localhost:8080/",
          "height": 349
        },
        "id": "M_CNWipTDqDe",
        "outputId": "ac3b9685-6b70-459e-c012-e5f1acf83990"
      },
      "execution_count": 2,
      "outputs": [
        {
          "name": "stdout",
          "output_type": "stream",
          "text": [
            "\n",
            "1. Inserir notas\n",
            "2. Exibir notas\n",
            "3. Sair\n",
            "Escolha uma opção: 1\n",
            "Digite a matéria: SQL\n",
            "Digite a primeira nota: 7\n",
            "Digite a segunda nota: 5,5\n"
          ]
        },
        {
          "output_type": "error",
          "ename": "ValueError",
          "evalue": "could not convert string to float: '5,5'",
          "traceback": [
            "\u001b[0;31m---------------------------------------------------------------------------\u001b[0m",
            "\u001b[0;31mValueError\u001b[0m                                Traceback (most recent call last)",
            "\u001b[0;32m<ipython-input-2-3d7612acc80d>\u001b[0m in \u001b[0;36m<cell line: 46>\u001b[0;34m()\u001b[0m\n\u001b[1;32m     53\u001b[0m         \u001b[0mmateria\u001b[0m \u001b[0;34m=\u001b[0m \u001b[0minput\u001b[0m\u001b[0;34m(\u001b[0m\u001b[0;34m\"Digite a matéria: \"\u001b[0m\u001b[0;34m)\u001b[0m\u001b[0;34m\u001b[0m\u001b[0;34m\u001b[0m\u001b[0m\n\u001b[1;32m     54\u001b[0m         \u001b[0mnota1\u001b[0m \u001b[0;34m=\u001b[0m \u001b[0mfloat\u001b[0m\u001b[0;34m(\u001b[0m\u001b[0minput\u001b[0m\u001b[0;34m(\u001b[0m\u001b[0;34m\"Digite a primeira nota: \"\u001b[0m\u001b[0;34m)\u001b[0m\u001b[0;34m)\u001b[0m\u001b[0;34m\u001b[0m\u001b[0;34m\u001b[0m\u001b[0m\n\u001b[0;32m---> 55\u001b[0;31m         \u001b[0mnota2\u001b[0m \u001b[0;34m=\u001b[0m \u001b[0mfloat\u001b[0m\u001b[0;34m(\u001b[0m\u001b[0minput\u001b[0m\u001b[0;34m(\u001b[0m\u001b[0;34m\"Digite a segunda nota: \"\u001b[0m\u001b[0;34m)\u001b[0m\u001b[0;34m)\u001b[0m\u001b[0;34m\u001b[0m\u001b[0;34m\u001b[0m\u001b[0m\n\u001b[0m\u001b[1;32m     56\u001b[0m         \u001b[0minserir_notas\u001b[0m\u001b[0;34m(\u001b[0m\u001b[0mmateria\u001b[0m\u001b[0;34m,\u001b[0m \u001b[0mnota1\u001b[0m\u001b[0;34m,\u001b[0m \u001b[0mnota2\u001b[0m\u001b[0;34m)\u001b[0m\u001b[0;34m\u001b[0m\u001b[0;34m\u001b[0m\u001b[0m\n\u001b[1;32m     57\u001b[0m     \u001b[0;32melif\u001b[0m \u001b[0mopcao\u001b[0m \u001b[0;34m==\u001b[0m \u001b[0;34m\"2\"\u001b[0m\u001b[0;34m:\u001b[0m\u001b[0;34m\u001b[0m\u001b[0;34m\u001b[0m\u001b[0m\n",
            "\u001b[0;31mValueError\u001b[0m: could not convert string to float: '5,5'"
          ]
        }
      ]
    }
  ],
  "metadata": {
    "colab": {
      "provenance": [],
      "authorship_tag": "ABX9TyOeL8cLx/nUsUuw2/wUhQD3",
      "include_colab_link": true
    },
    "kernelspec": {
      "display_name": "Python 3",
      "name": "python3"
    },
    "language_info": {
      "name": "python"
    }
  },
  "nbformat": 4,
  "nbformat_minor": 0
}