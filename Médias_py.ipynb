{
  "cells": [
    {
      "cell_type": "markdown",
      "metadata": {
        "id": "view-in-github",
        "colab_type": "text"
      },
      "source": [
        "<a href=\"https://colab.research.google.com/github/Yann-Xavier/Python/blob/main/M%C3%A9dias_py.ipynb\" target=\"_parent\"><img src=\"https://colab.research.google.com/assets/colab-badge.svg\" alt=\"Open In Colab\"/></a>"
      ]
    },
    {
      "cell_type": "code",
      "source": [
        "import numpy as np\n",
        "\n",
        "# Solicitar as notas do usuário\n",
        "notas_input = input(\"Insira as notas do aluno, separadas por espaço: \")\n",
        "\n",
        "# Dividir a string de entrada em uma lista de substrings\n",
        "notas_lista = notas_input.split()\n",
        "\n",
        "# Converter a lista de strings para uma lista de números (floats)\n",
        "notas = [float(nota) for nota in notas_lista]\n",
        "\n",
        "# Criar um array do NumPy a partir da lista de notas\n",
        "notas_array = np.array(notas)\n",
        "\n",
        "# Calcular a média das notas\n",
        "media = np.mean(notas_array)\n",
        "\n",
        "# Calcular o desvio padrão das notas\n",
        "desvio_padrao = np.std(notas_array)\n",
        "\n",
        "# Verificar a maior nota\n",
        "maior_nota = np.max(notas_array)\n",
        "\n",
        "# Verificar a menor nota\n",
        "menor_nota = np.min(notas_array)\n",
        "\n",
        "# Exibir os resultados\n",
        "print(f\"Média das notas: {media:.2f}\")\n",
        "print(f\"Desvio padrão das notas: {desvio_padrao:.2f}\")\n",
        "print(f\"Maior nota: {maior_nota}\")\n",
        "print(f\"Menor nota: {menor_nota}\")\n",
        "\n",
        "# Verificar se o aluno foi aprovado ou reprovado\n",
        "if media >= 7:\n",
        "    print(\"O aluno foi aprovado!\")\n",
        "else:\n",
        "    print(\"O aluno foi reprovado.\")\n",
        "\n",
        "# Verificar se o aluno está em exame\n",
        "if 5 <= media < 7:\n",
        "    print(\"O aluno está em exame.\")\n",
        "\n",
        ""
      ],
      "metadata": {
        "id": "KclNR4GzoznP",
        "outputId": "ac67797a-c6f5-49d2-b08c-4a139114f3d2",
        "colab": {
          "base_uri": "https://localhost:8080/"
        }
      },
      "execution_count": 1,
      "outputs": [
        {
          "output_type": "stream",
          "name": "stdout",
          "text": [
            "Insira as notas do aluno, separadas por espaço: 10 5 6.5 7.5 4 3 8 1 0 6 4 2 1 1\n",
            "Média das notas: 4.21\n",
            "Desvio padrão das notas: 2.96\n",
            "Maior nota: 10.0\n",
            "Menor nota: 0.0\n"
          ]
        }
      ]
    }
  ],
  "metadata": {
    "colab": {
      "provenance": [],
      "authorship_tag": "ABX9TyMUt3OqDliAgddKLdliUcM6",
      "include_colab_link": true
    },
    "kernelspec": {
      "display_name": "Python 3",
      "name": "python3"
    },
    "language_info": {
      "name": "python"
    }
  },
  "nbformat": 4,
  "nbformat_minor": 0
}