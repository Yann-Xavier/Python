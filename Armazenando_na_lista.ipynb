{
  "nbformat": 4,
  "nbformat_minor": 0,
  "metadata": {
    "colab": {
      "provenance": [],
      "authorship_tag": "ABX9TyN8KfhHQ1bKHYN+MBvDe0yx",
      "include_colab_link": true
    },
    "kernelspec": {
      "name": "python3",
      "display_name": "Python 3"
    },
    "language_info": {
      "name": "python"
    }
  },
  "cells": [
    {
      "cell_type": "markdown",
      "metadata": {
        "id": "view-in-github",
        "colab_type": "text"
      },
      "source": [
        "<a href=\"https://colab.research.google.com/github/Yann-Xavier/Python/blob/main/Armazenando_na_lista.ipynb\" target=\"_parent\"><img src=\"https://colab.research.google.com/assets/colab-badge.svg\" alt=\"Open In Colab\"/></a>"
      ]
    },
    {
      "cell_type": "code",
      "source": [
        "# Função para ler dois números e armazená-los em uma lista\n",
        "def ler_numeros():\n",
        "    numeros = []\n",
        "    for i in range(2):\n",
        "        numero = float(input(f\"Digite o {i+1}º número: \"))\n",
        "        numeros.append(numero)\n",
        "    return numeros\n",
        "\n",
        "# Função para encontrar o maior e o menor número da lista\n",
        "def encontrar_maior_e_menor(numeros):\n",
        "    maior = minimo = numeros[0]\n",
        "    for numero in numeros:\n",
        "        if numero > maior:\n",
        "            maior = numero\n",
        "        elif numero < minimo:\n",
        "            minimo = numero\n",
        "    return maior, minimo\n",
        "\n",
        "# Função principal do programa\n",
        "def main():\n",
        "    numeros = ler_numeros()\n",
        "    maior, menor = encontrar_maior_e_menor(numeros)\n",
        "    print(f\"O maior número é {maior} e o menor número é {menor}.\")\n",
        "\n",
        "# Execute o programa\n",
        "if __name__ == \"__main__\":\n",
        "    main()"
      ],
      "metadata": {
        "colab": {
          "base_uri": "https://localhost:8080/"
        },
        "id": "3PhVC0ZT-OOz",
        "outputId": "8dfce8af-394a-4407-a6e7-333c2c6a0d21"
      },
      "execution_count": 5,
      "outputs": [
        {
          "output_type": "stream",
          "name": "stdout",
          "text": [
            "A palavra 'exemplo' está presente na lista.\n"
          ]
        }
      ]
    }
  ]
}