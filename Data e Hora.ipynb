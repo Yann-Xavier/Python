{
  "nbformat": 4,
  "nbformat_minor": 0,
  "metadata": {
    "colab": {
      "provenance": [],
      "authorship_tag": "ABX9TyN44tyGNuGKZprzlg3oH1TI",
      "include_colab_link": true
    },
    "kernelspec": {
      "name": "python3",
      "display_name": "Python 3"
    },
    "language_info": {
      "name": "python"
    }
  },
  "cells": [
    {
      "cell_type": "markdown",
      "metadata": {
        "id": "view-in-github",
        "colab_type": "text"
      },
      "source": [
        "<a href=\"https://colab.research.google.com/github/Yann-Xavier/Python/blob/main/Data%20e%20Hora.ipynb\" target=\"_parent\"><img src=\"https://colab.research.google.com/assets/colab-badge.svg\" alt=\"Open In Colab\"/></a>"
      ]
    },
    {
      "cell_type": "code",
      "source": [
        "import datetime\n",
        "\n",
        "# Obtém a data e hora atual\n",
        "agora = datetime.datetime.now()\n",
        "\n",
        "# Formata a saída para exibir ano, mês, dia e horário\n",
        "data_formatada = agora.strftime(\"%d/%m/%Y\")\n",
        "horario_formatado = agora.strftime(\"%H:%M:%S\")\n",
        "\n",
        "print(f\"Data atual: {data_formatada}\")\n",
        "print(f\"Horário atual: {horario_formatado}\")\n"
      ],
      "metadata": {
        "colab": {
          "base_uri": "https://localhost:8080/"
        },
        "id": "Fuse9rX8QTSB",
        "outputId": "949db45f-e2b0-4d56-aac6-33d77b174dc6"
      },
      "execution_count": 10,
      "outputs": [
        {
          "output_type": "stream",
          "name": "stdout",
          "text": [
            "Data atual: 28/02/2024\n",
            "Horário atual: 19:49:12\n"
          ]
        }
      ]
    }
  ]
}