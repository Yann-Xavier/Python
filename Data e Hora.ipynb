import datetime

# Obtém a data e hora atual
agora = datetime.datetime.now()

# Formata a saída para exibir ano, mês, dia e horário
data_formatada = agora.strftime("%d/%m/%Y")
horario_formatado = agora.strftime("%H:%M:%S")

print(f"Data atual: {data_formatada}")
print(f"Horário atual: {horario_formatado}")
