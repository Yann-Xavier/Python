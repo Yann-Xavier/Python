{
  "nbformat": 4,
  "nbformat_minor": 0,
  "metadata": {
    "colab": {
      "provenance": [],
      "authorship_tag": "ABX9TyPoDV+ESiGjCGwrUg2SL220",
      "include_colab_link": true
    },
    "kernelspec": {
      "name": "python3",
      "display_name": "Python 3"
    },
    "language_info": {
      "name": "python"
    }
  },
  "cells": [
    {
      "cell_type": "markdown",
      "metadata": {
        "id": "view-in-github",
        "colab_type": "text"
      },
      "source": [
        "<a href=\"https://colab.research.google.com/github/Yann-Xavier/Python/blob/main/Listas_Maiusculas.ipynb\" target=\"_parent\"><img src=\"https://colab.research.google.com/assets/colab-badge.svg\" alt=\"Open In Colab\"/></a>"
      ]
    },
    {
      "cell_type": "code",
      "source": [
        "# Função para ler uma lista de nomes do teclado\n",
        "def ler_nomes():\n",
        "    nomes = []\n",
        "    while True:\n",
        "        nome = input(\"Digite um nome (ou digite 'fim' para parar): \")\n",
        "        if nome.lower() == \"fim\":\n",
        "            break\n",
        "        nomes.append(nome)\n",
        "    return nomes\n",
        "\n",
        "# Função para exibir os nomes em maiúsculas\n",
        "def exibir_nomes_em_maiusculas(nomes):\n",
        "    print(\"\\nNomes em maiúsculas:\")\n",
        "    for i, nome in enumerate(nomes):\n",
        "        nomes[i] = nome.upper()\n",
        "    print(nomes)\n",
        "\n",
        "# Função principal do programa\n",
        "def main():\n",
        "    nomes = ler_nomes()\n",
        "    exibir_nomes_em_maiusculas(nomes)\n",
        "\n",
        "# Execute o programa\n",
        "if __name__ == \"__main__\":\n",
        "    main()z"
      ],
      "metadata": {
        "colab": {
          "base_uri": "https://localhost:8080/"
        },
        "id": "3PhVC0ZT-OOz",
        "outputId": "30ca44b9-c183-4a4d-958a-6b10e62db63e"
      },
      "execution_count": 8,
      "outputs": [
        {
          "output_type": "stream",
          "name": "stdout",
          "text": [
            "Digite um nome (ou digite 'fim' para parar): yann xavier\n",
            "Digite um nome (ou digite 'fim' para parar): rato\n",
            "Digite um nome (ou digite 'fim' para parar): gato\n",
            "Digite um nome (ou digite 'fim' para parar): macaco\n",
            "Digite um nome (ou digite 'fim' para parar): leao\n",
            "Digite um nome (ou digite 'fim' para parar): ebra\n",
            "Digite um nome (ou digite 'fim' para parar): zebra\n",
            "Digite um nome (ou digite 'fim' para parar): carro \n",
            "Digite um nome (ou digite 'fim' para parar): manga\n",
            "Digite um nome (ou digite 'fim' para parar): fim\n",
            "\n",
            "Nomes em maiúsculas:\n",
            "['YANN XAVIER', 'RATO', 'GATO', 'MACACO', 'LEAO', 'EBRA', 'ZEBRA', 'CARRO ', 'MANGA']\n"
          ]
        }
      ]
    }
  ]
}