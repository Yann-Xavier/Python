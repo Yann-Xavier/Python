{
  "nbformat": 4,
  "nbformat_minor": 0,
  "metadata": {
    "colab": {
      "provenance": [],
      "authorship_tag": "ABX9TyNhFRPTMfESKZZsfsUK2/EY",
      "include_colab_link": true
    },
    "kernelspec": {
      "name": "python3",
      "display_name": "Python 3"
    },
    "language_info": {
      "name": "python"
    }
  },
  "cells": [
    {
      "cell_type": "markdown",
      "metadata": {
        "id": "view-in-github",
        "colab_type": "text"
      },
      "source": [
        "<a href=\"https://colab.research.google.com/github/Yann-Xavier/Python/blob/main/Armazenando_na_lista2.ipynb\" target=\"_parent\"><img src=\"https://colab.research.google.com/assets/colab-badge.svg\" alt=\"Open In Colab\"/></a>"
      ]
    },
    {
      "cell_type": "code",
      "source": [
        "# Função para ler 10 números do teclado e armazená-los em uma lista\n",
        "def ler_numeros():\n",
        "    numeros = []\n",
        "    for i in range(10):\n",
        "        numero = int(input(f\"Digite o {i+1}º número: \"))\n",
        "        numeros.append(numero)\n",
        "    return numeros\n",
        "\n",
        "# Função para exibir os números em ordem crescente e decrescente\n",
        "def exibir_numeros_ordenados(numeros):\n",
        "    print(\"\\nNúmeros em ordem crescente:\")\n",
        "    numeros.sort()\n",
        "    print(numeros)\n",
        "\n",
        "    print(\"\\nNúmeros em ordem decrescente:\")\n",
        "    numeros.sort(reverse=True)\n",
        "    print(numeros)\n",
        "\n",
        "# Função principal do programa\n",
        "def main():\n",
        "    numeros = ler_numeros()\n",
        "    exibir_numeros_ordenados(numeros)\n",
        "\n",
        "# Execute o programa\n",
        "if __name__ == \"__main__\":\n",
        "    main()"
      ],
      "metadata": {
        "colab": {
          "base_uri": "https://localhost:8080/"
        },
        "id": "3PhVC0ZT-OOz",
        "outputId": "638529af-f270-4954-adff-f7bb715b654e"
      },
      "execution_count": 7,
      "outputs": [
        {
          "output_type": "stream",
          "name": "stdout",
          "text": [
            "Digite o 1º número: 1\n",
            "Digite o 2º número: 2\n",
            "Digite o 3º número: 3\n",
            "Digite o 4º número: 5\n",
            "Digite o 5º número: 8\n",
            "Digite o 6º número: 9\n",
            "Digite o 7º número: 7\n",
            "Digite o 8º número: 4\n",
            "Digite o 9º número: 6\n",
            "Digite o 10º número: 10\n",
            "\n",
            "Números em ordem crescente:\n",
            "[1, 2, 3, 4, 5, 6, 7, 8, 9, 10]\n",
            "\n",
            "Números em ordem decrescente:\n",
            "[10, 9, 8, 7, 6, 5, 4, 3, 2, 1]\n"
          ]
        }
      ]
    }
  ]
}