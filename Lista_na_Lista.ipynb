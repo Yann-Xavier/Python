{
  "nbformat": 4,
  "nbformat_minor": 0,
  "metadata": {
    "colab": {
      "provenance": [],
      "authorship_tag": "ABX9TyM4PjGiZXyWYf8V/cwORmhG",
      "include_colab_link": true
    },
    "kernelspec": {
      "name": "python3",
      "display_name": "Python 3"
    },
    "language_info": {
      "name": "python"
    }
  },
  "cells": [
    {
      "cell_type": "markdown",
      "metadata": {
        "id": "view-in-github",
        "colab_type": "text"
      },
      "source": [
        "<a href=\"https://colab.research.google.com/github/Yann-Xavier/Python/blob/main/Lista_na_Lista.ipynb\" target=\"_parent\"><img src=\"https://colab.research.google.com/assets/colab-badge.svg\" alt=\"Open In Colab\"/></a>"
      ]
    },
    {
      "cell_type": "code",
      "source": [
        "# Função para ler uma lista de 10 valores inteiros do teclado\n",
        "def ler_lista():\n",
        "    lista = []\n",
        "    for i in range(10):\n",
        "        while True:\n",
        "            try:\n",
        "                numero = int(input(f\"Digite o {i+1}º número inteiro: \"))\n",
        "                break\n",
        "            except ValueError:\n",
        "                print(\"Você deve digitar um número inteiro!\")\n",
        "        lista.append(numero)\n",
        "    return lista\n",
        "\n",
        "# Função para separar os números pares de uma lista\n",
        "def separar_pares(numeros):\n",
        "    pares = []\n",
        "    for numero in numeros:\n",
        "        if numero % 2 == 0:\n",
        "            pares.append(numero)\n",
        "    return pares\n",
        "\n",
        "# Função principal do programa\n",
        "def main():\n",
        "    numeros = ler_lista()\n",
        "    pares = separar_pares(numeros)\n",
        "    print(\"\\nNúmeros pares:\")\n",
        "    print(pares)\n",
        "\n",
        "# Execute o programa\n",
        "if __name__ == \"__main__\":\n",
        "    main()"
      ],
      "metadata": {
        "colab": {
          "base_uri": "https://localhost:8080/"
        },
        "id": "J4GRpA_QB8je",
        "outputId": "567f0acf-27aa-445a-9c44-c3578e196ab8"
      },
      "execution_count": 12,
      "outputs": [
        {
          "output_type": "stream",
          "name": "stdout",
          "text": [
            "Digite um item (ou digite 'fim' para parar): 1\n",
            "Digite um item (ou digite 'fim' para parar): 2\n",
            "Digite um item (ou digite 'fim' para parar): 3\n",
            "Digite um item (ou digite 'fim' para parar): fim\n",
            "Digite o item que deseja remover: 2\n",
            "O item '2' foi removido com sucesso!\n",
            "Lista atualizada:\n",
            "['1', '3']\n"
          ]
        }
      ]
    }
  ]
}