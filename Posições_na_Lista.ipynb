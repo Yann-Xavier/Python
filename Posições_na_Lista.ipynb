{
  "nbformat": 4,
  "nbformat_minor": 0,
  "metadata": {
    "colab": {
      "provenance": [],
      "authorship_tag": "ABX9TyOHxnVFxzqrJdft/46p0jlT",
      "include_colab_link": true
    },
    "kernelspec": {
      "name": "python3",
      "display_name": "Python 3"
    },
    "language_info": {
      "name": "python"
    }
  },
  "cells": [
    {
      "cell_type": "markdown",
      "metadata": {
        "id": "view-in-github",
        "colab_type": "text"
      },
      "source": [
        "<a href=\"https://colab.research.google.com/github/Yann-Xavier/Python/blob/main/Posi%C3%A7%C3%B5es_na_Lista.ipynb\" target=\"_parent\"><img src=\"https://colab.research.google.com/assets/colab-badge.svg\" alt=\"Open In Colab\"/></a>"
      ]
    },
    {
      "cell_type": "code",
      "source": [
        "# Defina a lista de frutas\n",
        "frutas = ['banana', 'laranja', 'maçã', 'morango', 'graviola']\n",
        "\n",
        "# Leia a posição da lista informada pelo usuário\n",
        "posicao = int(input(\"Digite a posição da lista: \"))\n",
        "\n",
        "# Verifique se a posição é válida\n",
        "if 0 <= posicao < len(frutas):\n",
        "    # Imprima a fruta correspondente à posição informada\n",
        "    print(f\"A fruta na posição {posicao} é {frutas[posicao]}\")\n",
        "else:\n",
        "    # Caso a posição seja inválida, imprima uma mensagem de erro\n",
        "    print(\"Posição inválida! A lista tem apenas as seguintes posições:\")\n",
        "    for i, fruta in enumerate(frutas):\n",
        "        print(f\"{i}: {fruta}\")\n",
        ""
      ],
      "metadata": {
        "colab": {
          "base_uri": "https://localhost:8080/"
        },
        "id": "uT9Z-3G_DRpE",
        "outputId": "87558db9-7ab9-42dd-dbe4-074cc12b5743"
      },
      "execution_count": 15,
      "outputs": [
        {
          "output_type": "stream",
          "name": "stdout",
          "text": [
            "Digite a posição da lista: 4\n",
            "A fruta na posição 4 é graviola\n"
          ]
        }
      ]
    }
  ]
}