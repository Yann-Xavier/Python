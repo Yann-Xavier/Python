{
  "nbformat": 4,
  "nbformat_minor": 0,
  "metadata": {
    "colab": {
      "provenance": [],
      "authorship_tag": "ABX9TyNGjz3GJ+Mrp1+WPx5f3u/s",
      "include_colab_link": true
    },
    "kernelspec": {
      "name": "python3",
      "display_name": "Python 3"
    },
    "language_info": {
      "name": "python"
    }
  },
  "cells": [
    {
      "cell_type": "markdown",
      "metadata": {
        "id": "view-in-github",
        "colab_type": "text"
      },
      "source": [
        "<a href=\"https://colab.research.google.com/github/Yann-Xavier/Python/blob/main/Removendo_itens_da_lista.ipynb\" target=\"_parent\"><img src=\"https://colab.research.google.com/assets/colab-badge.svg\" alt=\"Open In Colab\"/></a>"
      ]
    },
    {
      "cell_type": "code",
      "source": [
        "# Função para ler uma lista do teclado\n",
        "def ler_lista():\n",
        "    lista = []\n",
        "    while True:\n",
        "        item = input(\"Digite um item (ou digite 'fim' para parar): \")\n",
        "        if item.lower() == \"fim\":\n",
        "            break\n",
        "        lista.append(item)\n",
        "    return lista\n",
        "\n",
        "# Função para remover um item de uma lista\n",
        "def remover_item(lista, item):\n",
        "    if item in lista:\n",
        "        lista.remove(item)\n",
        "        print(f\"O item '{item}' foi removido com sucesso!\")\n",
        "    else:\n",
        "        print(f\"O item '{item}' não foi encontrado na lista.\")\n",
        "\n",
        "# Função principal do programa\n",
        "def main():\n",
        "    lista = ler_lista()\n",
        "    item = input(\"Digite o item que deseja remover: \")\n",
        "    remover_item(lista, item)\n",
        "    print(\"Lista atualizada:\")\n",
        "    print(lista)\n",
        "\n",
        "# Execute o programa\n",
        "if __name__ == \"__main__\":\n",
        "    main()c"
      ],
      "metadata": {
        "colab": {
          "base_uri": "https://localhost:8080/"
        },
        "id": "3PhVC0ZT-OOz",
        "outputId": "d0296097-6547-45f5-bec5-8ab1b387c912"
      },
      "execution_count": 9,
      "outputs": [
        {
          "output_type": "stream",
          "name": "stdout",
          "text": [
            "Digite um item (ou digite 'fim' para parar): manga\n",
            "Digite um item (ou digite 'fim' para parar): laranja\n",
            "Digite um item (ou digite 'fim' para parar): berinjela\n",
            "Digite um item (ou digite 'fim' para parar): morango\n",
            "Digite um item (ou digite 'fim' para parar): cenoura\n",
            "Digite um item (ou digite 'fim' para parar): tomate\n",
            "Digite um item (ou digite 'fim' para parar): coentro\n",
            "Digite um item (ou digite 'fim' para parar): fim\n",
            "Digite o item que deseja remover: coentro\n",
            "O item 'coentro' foi removido com sucesso!\n",
            "Lista atualizada:\n",
            "['manga', 'laranja', 'berinjela', 'morango', 'cenoura', 'tomate']\n"
          ]
        }
      ]
    }
  ]
}